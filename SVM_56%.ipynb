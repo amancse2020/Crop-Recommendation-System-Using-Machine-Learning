{
 "cells": [
  {
   "cell_type": "code",
   "execution_count": 19,
   "id": "14847552",
   "metadata": {},
   "outputs": [],
   "source": [
    "import pandas as pd"
   ]
  },
  {
   "cell_type": "code",
   "execution_count": 20,
   "id": "e895cbfc",
   "metadata": {},
   "outputs": [],
   "source": [
    "import numpy as np"
   ]
  },
  {
   "cell_type": "code",
   "execution_count": 21,
   "id": "5c3c72b0",
   "metadata": {},
   "outputs": [],
   "source": [
    "from sklearn.model_selection import train_test_split\n"
   ]
  },
  {
   "cell_type": "code",
   "execution_count": 22,
   "id": "895cc4d1",
   "metadata": {},
   "outputs": [],
   "source": [
    "from sklearn.preprocessing import StandardScaler\n",
    "from sklearn.svm import SVC, LinearSVC"
   ]
  },
  {
   "cell_type": "code",
   "execution_count": 24,
   "id": "52f474a1",
   "metadata": {},
   "outputs": [],
   "source": [
    "from sklearn.metrics import accuracy_score\n",
    "from sklearn.metrics import confusion_matrix\n",
    "import pickle"
   ]
  },
  {
   "cell_type": "code",
   "execution_count": 25,
   "id": "456f13d7",
   "metadata": {},
   "outputs": [
    {
     "data": {
      "text/plain": [
       "array(['carrot', 'coconut', 'cotton', 'groundnut', 'melon', 'millet',\n",
       "       'potatoes', 'rice', 'vegetable', 'wheat'], dtype=object)"
      ]
     },
     "execution_count": 25,
     "metadata": {},
     "output_type": "execute_result"
    }
   ],
   "source": [
    "data = pd.read_csv('final_data.csv')\n",
    "data['crop_type'].unique()"
   ]
  },
  {
   "cell_type": "code",
   "execution_count": 26,
   "id": "4734705a",
   "metadata": {},
   "outputs": [],
   "source": [
    "mapping = {'carrot': 1, 'coconut': 2, 'cotton': 3, 'groundnut': 4, 'melon': 5, 'millet': 6, 'potatoes': 7, 'rice': 8,\n",
    "           'vegetable': 9, 'wheat': 10}\n",
    "data['crop_type'] = data['crop_type'].map(mapping)"
   ]
  },
  {
   "cell_type": "code",
   "execution_count": 27,
   "id": "2837014f",
   "metadata": {},
   "outputs": [],
   "source": [
    "\n",
    "data['Soil_type'].unique()\n",
    "mapping = {'clay': 1, 'Sandy': 2, 'loamy': 3}\n",
    "data['Soil_type'] = data['Soil_type'].map(mapping)"
   ]
  },
  {
   "cell_type": "code",
   "execution_count": 28,
   "id": "d4b95a19",
   "metadata": {},
   "outputs": [],
   "source": [
    "X = data.drop('crop_type', axis=1).values\n",
    "y = data.crop_type.values"
   ]
  },
  {
   "cell_type": "code",
   "execution_count": 29,
   "id": "160726d8",
   "metadata": {},
   "outputs": [],
   "source": [
    "# splitting data as X_train and X_test\n",
    "X_train, X_test, y_train, y_test = train_test_split(X, y, test_size = 0.2,random_state = 0)\n",
    "\n"
   ]
  },
  {
   "cell_type": "code",
   "execution_count": 30,
   "id": "e945563b",
   "metadata": {},
   "outputs": [],
   "source": [
    "\n",
    "# Feature Scaling\n",
    "sc = StandardScaler()\n",
    "X_train = sc.fit_transform(X_train)\n",
    "X_test = sc.transform(X_test)"
   ]
  },
  {
   "cell_type": "code",
   "execution_count": 31,
   "id": "c6abe1ad",
   "metadata": {},
   "outputs": [
    {
     "data": {
      "text/plain": [
       "SVC(C=2.0, coef0=0.5, gamma='auto', random_state=1000, tol=0.11)"
      ]
     },
     "execution_count": 31,
     "metadata": {},
     "output_type": "execute_result"
    }
   ],
   "source": [
    "model = SVC(C=2.0, cache_size=200, class_weight=None, coef0=0.5, decision_function_shape='ovr', degree=3, gamma='auto', kernel='rbf', max_iter=-1, probability=False, random_state= 1000, shrinking=True, tol=0.11, verbose=False)\n",
    "#model = SVC(kernel='linear', decision_function_shape='ovo', C = 0.02, gamma='scale', cache_size=200, coef0=0.0)\n",
    "model.fit(X_train,y_train)"
   ]
  },
  {
   "cell_type": "code",
   "execution_count": 32,
   "id": "cd02c592",
   "metadata": {},
   "outputs": [
    {
     "data": {
      "text/plain": [
       "\"with open('crop_recommender.pkl', 'wb') as f:\\n    pickle.dump(model, f)\\n\\npickle_in = open('crop_recommender.pkl', 'rb')\\nclf = pickle.load(pickle_in)\""
      ]
     },
     "execution_count": 32,
     "metadata": {},
     "output_type": "execute_result"
    }
   ],
   "source": [
    "\"\"\"with open('crop_recommender.pkl', 'wb') as f:\n",
    "    pickle.dump(model, f)\n",
    "\n",
    "pickle_in = open('crop_recommender.pkl', 'rb')\n",
    "clf = pickle.load(pickle_in)\"\"\"\n",
    "    "
   ]
  },
  {
   "cell_type": "code",
   "execution_count": 33,
   "id": "367bbe58",
   "metadata": {},
   "outputs": [],
   "source": [
    "prediction_svm=model.predict(X_test)"
   ]
  },
  {
   "cell_type": "code",
   "execution_count": 34,
   "id": "5277de20",
   "metadata": {},
   "outputs": [
    {
     "name": "stdout",
     "output_type": "stream",
     "text": [
      "0.56\n"
     ]
    }
   ],
   "source": [
    "#print(accuracy_score(y_true, y_pred))\n",
    "print(accuracy_score(y_test, prediction_svm))\n"
   ]
  },
  {
   "cell_type": "code",
   "execution_count": 35,
   "id": "64dd3292",
   "metadata": {},
   "outputs": [
    {
     "name": "stdout",
     "output_type": "stream",
     "text": [
      "[[ 0  0  0  0  0  0  2 11  0  0]\n",
      " [ 0  0  0  0 11  0  0  0  0  0]\n",
      " [ 0  0  0 11  0  0  0  0  0  1]\n",
      " [ 0  0  0 39  0  0  0  0  0  0]\n",
      " [ 0  0  0  0 38  0  0  0  0  0]\n",
      " [ 0  0  0  5  0  0  0  0  0  0]\n",
      " [ 0  0  0  0  0  0  4 11  0  0]\n",
      " [ 0  0  0  0  0  0  3 31  0  0]\n",
      " [ 0  0  0 12  0  0  0  0  0  2]\n",
      " [ 0  0  0 19  0  0  0  0  0  0]]\n"
     ]
    }
   ],
   "source": [
    "cm = confusion_matrix(y_test, prediction_svm)\n",
    "print(cm)"
   ]
  },
  {
   "cell_type": "code",
   "execution_count": null,
   "id": "81947140",
   "metadata": {},
   "outputs": [],
   "source": []
  },
  {
   "cell_type": "code",
   "execution_count": null,
   "id": "21e1d271",
   "metadata": {},
   "outputs": [],
   "source": []
  }
 ],
 "metadata": {
  "kernelspec": {
   "display_name": "Python 3 (ipykernel)",
   "language": "python",
   "name": "python3"
  },
  "language_info": {
   "codemirror_mode": {
    "name": "ipython",
    "version": 3
   },
   "file_extension": ".py",
   "mimetype": "text/x-python",
   "name": "python",
   "nbconvert_exporter": "python",
   "pygments_lexer": "ipython3",
   "version": "3.9.7"
  }
 },
 "nbformat": 4,
 "nbformat_minor": 5
}
