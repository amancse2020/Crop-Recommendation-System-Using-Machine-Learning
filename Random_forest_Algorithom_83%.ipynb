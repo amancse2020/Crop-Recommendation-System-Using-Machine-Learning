{
 "cells": [
  {
   "cell_type": "code",
   "execution_count": 81,
   "id": "7055eb72",
   "metadata": {},
   "outputs": [],
   "source": [
    "import pandas as pd\n",
    "import numpy as np"
   ]
  },
  {
   "cell_type": "code",
   "execution_count": 82,
   "id": "f6cd4b0d",
   "metadata": {},
   "outputs": [],
   "source": [
    "from scipy.sparse.construct import random"
   ]
  },
  {
   "cell_type": "code",
   "execution_count": 83,
   "id": "4aa56d2a",
   "metadata": {},
   "outputs": [],
   "source": [
    "from sklearn.model_selection import train_test_split"
   ]
  },
  {
   "cell_type": "code",
   "execution_count": 84,
   "id": "ca8d5233",
   "metadata": {},
   "outputs": [],
   "source": [
    "#Reading the csv file"
   ]
  },
  {
   "cell_type": "code",
   "execution_count": 85,
   "id": "1bdd6ea8",
   "metadata": {},
   "outputs": [],
   "source": [
    "data=pd.read_csv('final_dataset.csv')"
   ]
  },
  {
   "cell_type": "code",
   "execution_count": 86,
   "id": "a6eb6ce8",
   "metadata": {},
   "outputs": [
    {
     "name": "stdout",
     "output_type": "stream",
     "text": [
      "       State_Name District_Name  Crop_Year       Season     Area  Production  \\\n",
      "0  Andhra Pradesh     ANANTAPUR       1997  Kharif       21400.0      2600.0   \n",
      "\n",
      "   temperature        pH   rainfall       crop  \n",
      "0    30.015194  6.540823  60.740755  arhar/tur  \n"
     ]
    }
   ],
   "source": [
    "print(data.head(1))"
   ]
  },
  {
   "cell_type": "code",
   "execution_count": 87,
   "id": "c2e8dc3a",
   "metadata": {},
   "outputs": [
    {
     "name": "stdout",
     "output_type": "stream",
     "text": [
      "0         arhar/tur\n",
      "1         arhar/tur\n",
      "2         arhar/tur\n",
      "3         arhar/tur\n",
      "4         arhar/tur\n",
      "            ...    \n",
      "157634        wheat\n",
      "157635        wheat\n",
      "157636        wheat\n",
      "157637        wheat\n",
      "157638        wheat\n",
      "Name: crop, Length: 157639, dtype: object\n"
     ]
    }
   ],
   "source": [
    "print(data.crop)"
   ]
  },
  {
   "cell_type": "code",
   "execution_count": 88,
   "id": "ee735df2",
   "metadata": {},
   "outputs": [],
   "source": [
    "# To add state uncomment the next line\n",
    "#state= pd.get_dummies(data.State_Name).iloc[: , :]"
   ]
  },
  {
   "cell_type": "code",
   "execution_count": 89,
   "id": "246a2db8",
   "metadata": {},
   "outputs": [],
   "source": [
    "season = pd.get_dummies(data.Season).iloc[: , :]"
   ]
  },
  {
   "cell_type": "code",
   "execution_count": 90,
   "id": "7b5742c0",
   "metadata": {},
   "outputs": [],
   "source": [
    "# Creating dummy variable for target i.e label"
   ]
  },
  {
   "cell_type": "code",
   "execution_count": 91,
   "id": "96f8b64e",
   "metadata": {},
   "outputs": [
    {
     "name": "stdout",
     "output_type": "stream",
     "text": [
      "        Autumn       Kharif       Rabi         Summer       Whole Year   \\\n",
      "0                 0            1            0            0            0   \n",
      "1                 0            1            0            0            0   \n",
      "2                 0            1            0            0            0   \n",
      "3                 0            1            0            0            0   \n",
      "4                 0            0            1            0            0   \n",
      "...             ...          ...          ...          ...          ...   \n",
      "157634            0            0            0            1            0   \n",
      "157635            0            0            1            0            0   \n",
      "157636            0            0            1            0            0   \n",
      "157637            0            0            1            0            0   \n",
      "157638            0            0            1            0            0   \n",
      "\n",
      "        Winter       \n",
      "0                 0  \n",
      "1                 0  \n",
      "2                 0  \n",
      "3                 0  \n",
      "4                 0  \n",
      "...             ...  \n",
      "157634            0  \n",
      "157635            0  \n",
      "157636            0  \n",
      "157637            0  \n",
      "157638            0  \n",
      "\n",
      "[157639 rows x 6 columns]\n"
     ]
    }
   ],
   "source": [
    "label= pd.get_dummies(data.crop).iloc[: , :]\n",
    "print(season)"
   ]
  },
  {
   "cell_type": "code",
   "execution_count": 92,
   "id": "16a6b069",
   "metadata": {},
   "outputs": [],
   "source": [
    "#data= pd.concat([data,state,label],axis=1)"
   ]
  },
  {
   "cell_type": "code",
   "execution_count": 93,
   "id": "e1a17324",
   "metadata": {},
   "outputs": [],
   "source": [
    "data= pd.concat([data,season,label],axis=1)"
   ]
  },
  {
   "cell_type": "code",
   "execution_count": 94,
   "id": "1dd9c904",
   "metadata": {},
   "outputs": [],
   "source": [
    "#print(data)"
   ]
  },
  {
   "cell_type": "code",
   "execution_count": 95,
   "id": "1d7e4e4c",
   "metadata": {},
   "outputs": [],
   "source": [
    "data.drop('crop', axis=1,inplace=True)"
   ]
  },
  {
   "cell_type": "code",
   "execution_count": 96,
   "id": "953e43c7",
   "metadata": {},
   "outputs": [],
   "source": [
    "#print(data)"
   ]
  },
  {
   "cell_type": "code",
   "execution_count": 97,
   "id": "26aa37ae",
   "metadata": {},
   "outputs": [
    {
     "name": "stdout",
     "output_type": "stream",
     "text": [
      "The data present in one row of the dataset is\n"
     ]
    }
   ],
   "source": [
    "print('The data present in one row of the dataset is')"
   ]
  },
  {
   "cell_type": "code",
   "execution_count": 98,
   "id": "d9557519",
   "metadata": {
    "scrolled": true
   },
   "outputs": [
    {
     "name": "stdout",
     "output_type": "stream",
     "text": [
      "       State_Name District_Name  Crop_Year       Season     Area  Production  \\\n",
      "0  Andhra Pradesh     ANANTAPUR       1997  Kharif       21400.0      2600.0   \n",
      "\n",
      "   temperature        pH   rainfall  Autumn       ...  peas & beans (pulses)  \\\n",
      "0    30.015194  6.540823  60.740755            0  ...                      0   \n",
      "\n",
      "   potato  rapeseed &mustard  rice  sesamum  small millets  sugarcane  \\\n",
      "0       0                  0     0        0              0          0   \n",
      "\n",
      "   sunflower  urad  wheat  \n",
      "0          0     0      0  \n",
      "\n",
      "[1 rows x 35 columns]\n"
     ]
    }
   ],
   "source": [
    "print(data.head(1))"
   ]
  },
  {
   "cell_type": "code",
   "execution_count": 99,
   "id": "4f5a85ee",
   "metadata": {},
   "outputs": [],
   "source": [
    "train=data.iloc[:, 6:15].values  # 41, if states are included"
   ]
  },
  {
   "cell_type": "code",
   "execution_count": 100,
   "id": "7346a6cd",
   "metadata": {},
   "outputs": [],
   "source": [
    "test=data.iloc[: ,15:].values"
   ]
  },
  {
   "cell_type": "code",
   "execution_count": 101,
   "id": "496ffabd",
   "metadata": {},
   "outputs": [],
   "source": [
    "#Dividing the data into training and test set\n",
    "X_train,X_test,y_train,y_test=train_test_split(train,test,test_size=0.3,random_state=7)\n"
   ]
  },
  {
   "cell_type": "code",
   "execution_count": 102,
   "id": "6cb31f6b",
   "metadata": {},
   "outputs": [],
   "source": [
    "from sklearn.preprocessing import StandardScaler\n",
    "sc = StandardScaler()"
   ]
  },
  {
   "cell_type": "code",
   "execution_count": 103,
   "id": "3e41beb5",
   "metadata": {},
   "outputs": [],
   "source": [
    "X_train = sc.fit_transform(X_train)\n",
    "X_test = sc.transform(X_test)"
   ]
  },
  {
   "cell_type": "code",
   "execution_count": 104,
   "id": "d71f1985",
   "metadata": {},
   "outputs": [],
   "source": [
    "# Importing Decision Tree classifier\n",
    "from sklearn.tree import DecisionTreeRegressor\n",
    "clf=DecisionTreeRegressor()"
   ]
  },
  {
   "cell_type": "code",
   "execution_count": 105,
   "id": "826f6261",
   "metadata": {},
   "outputs": [],
   "source": [
    "# Importing Random Forest classifier\n",
    "from sklearn.ensemble import RandomForestRegressor\n",
    "clf = RandomForestRegressor()"
   ]
  },
  {
   "cell_type": "code",
   "execution_count": 106,
   "id": "129e589d",
   "metadata": {},
   "outputs": [],
   "source": [
    "#Fitting the classifier into training set\n",
    "clf.fit(X_train,y_train)\n",
    "pred=clf.predict(X_test)"
   ]
  },
  {
   "cell_type": "code",
   "execution_count": 107,
   "id": "a85a6062",
   "metadata": {},
   "outputs": [
    {
     "name": "stdout",
     "output_type": "stream",
     "text": [
      "[ 0.15087084  0.67430897  3.38404811  5.99623123 -0.88453741 -0.61234954\n",
      " -0.31028763 -0.40414754 -0.18485197] [0. 0. 0. 0. 0. 0. 0. 0. 0. 0. 0. 0. 0. 1. 0. 0. 0. 0. 0. 0.] [0 0 0 0 0 0 0 0 0 0 0 0 0 1 0 0 0 0 0 0]\n"
     ]
    }
   ],
   "source": [
    "print(X_test[10],pred[10] ,y_test[10])"
   ]
  },
  {
   "cell_type": "code",
   "execution_count": 108,
   "id": "11fbb378",
   "metadata": {},
   "outputs": [
    {
     "name": "stdout",
     "output_type": "stream",
     "text": [
      "The accuracy of this model is:  0.8312611012433393\n"
     ]
    }
   ],
   "source": [
    "from sklearn.metrics import accuracy_score\n",
    "# Finding the accuracy of the model\n",
    "a = accuracy_score(np.argmax(y_test,axis=1),np.argmax(pred,axis=1))\n",
    "print(\"The accuracy of this model is: \", a)"
   ]
  },
  {
   "cell_type": "code",
   "execution_count": 109,
   "id": "67623dfb",
   "metadata": {},
   "outputs": [
    {
     "name": "stdout",
     "output_type": "stream",
     "text": [
      "Accuracy in percentage\n"
     ]
    }
   ],
   "source": [
    "print(\"Accuracy in percentage\")"
   ]
  },
  {
   "cell_type": "code",
   "execution_count": null,
   "id": "0828e9b9",
   "metadata": {},
   "outputs": [],
   "source": []
  }
 ],
 "metadata": {
  "kernelspec": {
   "display_name": "Python 3 (ipykernel)",
   "language": "python",
   "name": "python3"
  },
  "language_info": {
   "codemirror_mode": {
    "name": "ipython",
    "version": 3
   },
   "file_extension": ".py",
   "mimetype": "text/x-python",
   "name": "python",
   "nbconvert_exporter": "python",
   "pygments_lexer": "ipython3",
   "version": "3.9.7"
  }
 },
 "nbformat": 4,
 "nbformat_minor": 5
}
